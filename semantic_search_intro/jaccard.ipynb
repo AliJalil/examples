{
 "metadata": {
  "language_info": {
   "codemirror_mode": {
    "name": "ipython",
    "version": 3
   },
   "file_extension": ".py",
   "mimetype": "text/x-python",
   "name": "python",
   "nbconvert_exporter": "python",
   "pygments_lexer": "ipython3",
   "version": "3.8.5"
  },
  "orig_nbformat": 2,
  "kernelspec": {
   "name": "ml_test",
   "display_name": "ML test",
   "language": "python"
  }
 },
 "nbformat": 4,
 "nbformat_minor": 2,
 "cells": [
  {
   "source": [
    "# Similarity Methods\n",
    "\n",
    "## Traditional\n",
    "\n",
    "### Jaccard\n",
    "\n",
    "The Jaccard metric can be calculated as the number of shared instances between two sets of data, over the total number of instances between both sets."
   ],
   "cell_type": "markdown",
   "metadata": {}
  },
  {
   "cell_type": "code",
   "execution_count": 4,
   "metadata": {},
   "outputs": [],
   "source": [
    "a = \"his thought process was on so many levels that he gave himself a phobia of heights\"\n",
    "b = \"there is an art to getting your way and throwing bananas on to the street is not it\"\n",
    "c = \"it is not often you find soggy bananas on the street\""
   ]
  },
  {
   "source": [
    "We will first need to split our sentences into lists."
   ],
   "cell_type": "markdown",
   "metadata": {}
  },
  {
   "cell_type": "code",
   "execution_count": 5,
   "metadata": {},
   "outputs": [
    {
     "output_type": "stream",
     "name": "stdout",
     "text": [
      "['there', 'is', 'an', 'art', 'to', 'getting', 'your', 'way', 'and', 'throwing', 'bananas', 'on', 'to', 'the', 'street', 'is', 'not', 'it']\n"
     ]
    }
   ],
   "source": [
    "a = a.split()\n",
    "b = b.split()\n",
    "c = c.split()\n",
    "print(b)"
   ]
  },
  {
   "source": [
    "And convert our lists into sets (removing any duplication of words)."
   ],
   "cell_type": "markdown",
   "metadata": {}
  },
  {
   "cell_type": "code",
   "execution_count": 3,
   "metadata": {},
   "outputs": [
    {
     "output_type": "stream",
     "name": "stdout",
     "text": [
      "{'an', 'bananas', 'the', 'getting', 'it', 'on', 'street', 'way', 'your', 'there', 'throwing', 'not', 'and', 'is', 'art', 'to'}\n"
     ]
    }
   ],
   "source": [
    "a = set(a)\n",
    "b = set(b)\n",
    "c = set(c)\n",
    "print(b)"
   ]
  },
  {
   "source": [
    "We then calculate the total number of shared words between sets."
   ],
   "cell_type": "markdown",
   "metadata": {}
  },
  {
   "cell_type": "code",
   "execution_count": 4,
   "metadata": {},
   "outputs": [
    {
     "output_type": "stream",
     "name": "stdout",
     "text": [
      "{'on'}\n1\n"
     ]
    }
   ],
   "source": [
    "shared_a_b = a.intersection(b)\n",
    "print(shared_a_b)\n",
    "print(len(shared_a_b))"
   ]
  },
  {
   "source": [
    "And then we calculate the total number of *unique* words between each set."
   ],
   "cell_type": "markdown",
   "metadata": {}
  },
  {
   "cell_type": "code",
   "execution_count": 5,
   "metadata": {},
   "outputs": [
    {
     "output_type": "stream",
     "name": "stdout",
     "text": [
      "31\n"
     ]
    }
   ],
   "source": [
    "count_a_b = len(a.union(b))\n",
    "print(count_a_b)"
   ]
  },
  {
   "source": [
    "To calculate the Jaccard similarity between both, we take the number of shared words / total words."
   ],
   "cell_type": "markdown",
   "metadata": {}
  },
  {
   "cell_type": "code",
   "execution_count": 6,
   "metadata": {},
   "outputs": [
    {
     "output_type": "execute_result",
     "data": {
      "text/plain": [
       "0.03225806451612903"
      ]
     },
     "metadata": {},
     "execution_count": 6
    }
   ],
   "source": [
    "len(shared_a_b) / count_a_b"
   ]
  },
  {
   "source": [
    "And there is our Jaccard similarity - we can rewrite this into a function."
   ],
   "cell_type": "markdown",
   "metadata": {}
  },
  {
   "cell_type": "code",
   "execution_count": 3,
   "metadata": {},
   "outputs": [],
   "source": [
    "def jac(x: set, y: set):\n",
    "    shared = x.intersection(y)  # selects shared tokens only\n",
    "    return len(shared) / len(x.union(y))  # union adds both sets together"
   ]
  },
  {
   "cell_type": "code",
   "execution_count": 8,
   "metadata": {},
   "outputs": [
    {
     "output_type": "execute_result",
     "data": {
      "text/plain": [
       "0.03225806451612903"
      ]
     },
     "metadata": {},
     "execution_count": 8
    }
   ],
   "source": [
    "jac(a, b)"
   ]
  },
  {
   "cell_type": "code",
   "execution_count": 9,
   "metadata": {},
   "outputs": [
    {
     "output_type": "execute_result",
     "data": {
      "text/plain": [
       "0.35"
      ]
     },
     "metadata": {},
     "execution_count": 9
    }
   ],
   "source": [
    "jac(b, c)"
   ]
  },
  {
   "source": [
    "And we find that sentences `b` and `c` score much better, as we would expect. Now, it isn't perfect, two sentences that share nothing but words like *'the'*, *'a'*, *'how'*, etc - could return high Jaccard scores despite being completely dissimilar. We can go part way to solving some of these shortcomings through the use of stopword removal, stemming or lemmatization (so words like *'travelling'* and *'travels'* can match), and other preprocessing techniques. However, there are other methods that avoid these problems altogether.\n",
    "\n",
    "---\n",
    "\n",
    "## w-Shingling\n",
    "\n",
    "w-shingling is a very similar method to Jaccard similarity. It uses the exact same `intersection / union` logic, but with *'shingles'*. Let's put together an example using bigrams - eg 2-shingling."
   ],
   "cell_type": "markdown",
   "metadata": {}
  },
  {
   "cell_type": "code",
   "execution_count": 1,
   "metadata": {},
   "outputs": [],
   "source": [
    "a = \"his thought process was on so many levels that he gave himself a phobia of heights\".split()\n",
    "b = \"there is an art to getting your way and throwing bananas on to the street is not it\".split()\n",
    "c = \"it is not often you find soggy bananas on the street\".split()"
   ]
  },
  {
   "cell_type": "code",
   "execution_count": 2,
   "metadata": {},
   "outputs": [
    {
     "output_type": "stream",
     "name": "stdout",
     "text": [
      "{'he gave', 'gave himself', 'phobia of', 'on so', 'many levels', 'thought process', 'himself a', 'process was', 'a phobia', 'was on', 'his thought', 'that he', 'of heights', 'levels that', 'so many'}\n"
     ]
    }
   ],
   "source": [
    "a_shingle = set([' '.join([a[i], a[i+1]]) for i in range(len(a)) if i != len(a)-1])\n",
    "b_shingle = set([' '.join([b[i], b[i+1]]) for i in range(len(b)) if i != len(b)-1])\n",
    "c_shingle = set([' '.join([c[i], c[i+1]]) for i in range(len(c)) if i != len(c)-1])\n",
    "print(a_shingle)"
   ]
  },
  {
   "cell_type": "code",
   "execution_count": 4,
   "metadata": {},
   "outputs": [
    {
     "output_type": "execute_result",
     "data": {
      "text/plain": [
       "0.0"
      ]
     },
     "metadata": {},
     "execution_count": 4
    }
   ],
   "source": [
    "jac(a_shingle, b_shingle)"
   ]
  },
  {
   "cell_type": "code",
   "execution_count": 5,
   "metadata": {},
   "outputs": [
    {
     "output_type": "execute_result",
     "data": {
      "text/plain": [
       "0.125"
      ]
     },
     "metadata": {},
     "execution_count": 5
    }
   ],
   "source": [
    "jac(b_shingle, c_shingle)"
   ]
  },
  {
   "cell_type": "code",
   "execution_count": 6,
   "metadata": {},
   "outputs": [
    {
     "output_type": "execute_result",
     "data": {
      "text/plain": [
       "{'bananas on', 'is not', 'the street'}"
      ]
     },
     "metadata": {},
     "execution_count": 6
    }
   ],
   "source": [
    "b_shingle.intersection(c_shingle)  # these are the matching shingles"
   ]
  }
 ]
}